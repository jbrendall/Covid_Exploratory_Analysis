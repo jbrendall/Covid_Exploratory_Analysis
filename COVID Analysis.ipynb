{
 "cells": [
  {
   "cell_type": "code",
   "execution_count": 27,
   "metadata": {},
   "outputs": [],
   "source": [
    "import pandas as pd\n",
    "import numpy as np\n",
    "import matplotlib.pyplot as plt"
   ]
  },
  {
   "cell_type": "code",
   "execution_count": 10,
   "metadata": {},
   "outputs": [],
   "source": [
    "url = \"https://api.covidtracking.com/v1/states/daily.csv\"\n",
    "df = pd.read_csv(url)"
   ]
  },
  {
   "cell_type": "code",
   "execution_count": 11,
   "metadata": {},
   "outputs": [
    {
     "data": {
      "text/html": [
       "<div>\n",
       "<style scoped>\n",
       "    .dataframe tbody tr th:only-of-type {\n",
       "        vertical-align: middle;\n",
       "    }\n",
       "\n",
       "    .dataframe tbody tr th {\n",
       "        vertical-align: top;\n",
       "    }\n",
       "\n",
       "    .dataframe thead th {\n",
       "        text-align: right;\n",
       "    }\n",
       "</style>\n",
       "<table border=\"1\" class=\"dataframe\">\n",
       "  <thead>\n",
       "    <tr style=\"text-align: right;\">\n",
       "      <th></th>\n",
       "      <th>date</th>\n",
       "      <th>state</th>\n",
       "      <th>positive</th>\n",
       "      <th>negative</th>\n",
       "      <th>pending</th>\n",
       "      <th>hospitalizedCurrently</th>\n",
       "      <th>hospitalizedCumulative</th>\n",
       "      <th>inIcuCurrently</th>\n",
       "      <th>inIcuCumulative</th>\n",
       "      <th>onVentilatorCurrently</th>\n",
       "      <th>...</th>\n",
       "      <th>posNeg</th>\n",
       "      <th>deathIncrease</th>\n",
       "      <th>hospitalizedIncrease</th>\n",
       "      <th>hash</th>\n",
       "      <th>commercialScore</th>\n",
       "      <th>negativeRegularScore</th>\n",
       "      <th>negativeScore</th>\n",
       "      <th>positiveScore</th>\n",
       "      <th>score</th>\n",
       "      <th>grade</th>\n",
       "    </tr>\n",
       "  </thead>\n",
       "  <tbody>\n",
       "    <tr>\n",
       "      <th>0</th>\n",
       "      <td>20200810</td>\n",
       "      <td>AK</td>\n",
       "      <td>4539.0</td>\n",
       "      <td>275804.0</td>\n",
       "      <td>NaN</td>\n",
       "      <td>37.0</td>\n",
       "      <td>NaN</td>\n",
       "      <td>NaN</td>\n",
       "      <td>NaN</td>\n",
       "      <td>3.0</td>\n",
       "      <td>...</td>\n",
       "      <td>280343</td>\n",
       "      <td>0</td>\n",
       "      <td>0</td>\n",
       "      <td>b509299c436632a9bb6c07a37fe0a942ba42d736</td>\n",
       "      <td>0</td>\n",
       "      <td>0</td>\n",
       "      <td>0</td>\n",
       "      <td>0</td>\n",
       "      <td>0</td>\n",
       "      <td>NaN</td>\n",
       "    </tr>\n",
       "    <tr>\n",
       "      <th>1</th>\n",
       "      <td>20200810</td>\n",
       "      <td>AL</td>\n",
       "      <td>103020.0</td>\n",
       "      <td>677547.0</td>\n",
       "      <td>NaN</td>\n",
       "      <td>1528.0</td>\n",
       "      <td>12070.0</td>\n",
       "      <td>NaN</td>\n",
       "      <td>1249.0</td>\n",
       "      <td>NaN</td>\n",
       "      <td>...</td>\n",
       "      <td>780567</td>\n",
       "      <td>29</td>\n",
       "      <td>533</td>\n",
       "      <td>bc7c88c5e4e61a5aacd73bceef95889e5b77bbd3</td>\n",
       "      <td>0</td>\n",
       "      <td>0</td>\n",
       "      <td>0</td>\n",
       "      <td>0</td>\n",
       "      <td>0</td>\n",
       "      <td>NaN</td>\n",
       "    </tr>\n",
       "    <tr>\n",
       "      <th>2</th>\n",
       "      <td>20200810</td>\n",
       "      <td>AR</td>\n",
       "      <td>50028.0</td>\n",
       "      <td>519292.0</td>\n",
       "      <td>NaN</td>\n",
       "      <td>508.0</td>\n",
       "      <td>3336.0</td>\n",
       "      <td>NaN</td>\n",
       "      <td>NaN</td>\n",
       "      <td>117.0</td>\n",
       "      <td>...</td>\n",
       "      <td>569320</td>\n",
       "      <td>11</td>\n",
       "      <td>52</td>\n",
       "      <td>3003372b79996f2d842ac417e2dceaab2971a7b3</td>\n",
       "      <td>0</td>\n",
       "      <td>0</td>\n",
       "      <td>0</td>\n",
       "      <td>0</td>\n",
       "      <td>0</td>\n",
       "      <td>NaN</td>\n",
       "    </tr>\n",
       "    <tr>\n",
       "      <th>3</th>\n",
       "      <td>20200810</td>\n",
       "      <td>AS</td>\n",
       "      <td>0.0</td>\n",
       "      <td>1396.0</td>\n",
       "      <td>NaN</td>\n",
       "      <td>NaN</td>\n",
       "      <td>NaN</td>\n",
       "      <td>NaN</td>\n",
       "      <td>NaN</td>\n",
       "      <td>NaN</td>\n",
       "      <td>...</td>\n",
       "      <td>1396</td>\n",
       "      <td>0</td>\n",
       "      <td>0</td>\n",
       "      <td>ccffb3614fb87b4cafee3b19c44d3eb7d10d5913</td>\n",
       "      <td>0</td>\n",
       "      <td>0</td>\n",
       "      <td>0</td>\n",
       "      <td>0</td>\n",
       "      <td>0</td>\n",
       "      <td>NaN</td>\n",
       "    </tr>\n",
       "    <tr>\n",
       "      <th>4</th>\n",
       "      <td>20200810</td>\n",
       "      <td>AZ</td>\n",
       "      <td>187523.0</td>\n",
       "      <td>840708.0</td>\n",
       "      <td>NaN</td>\n",
       "      <td>1575.0</td>\n",
       "      <td>19277.0</td>\n",
       "      <td>506.0</td>\n",
       "      <td>NaN</td>\n",
       "      <td>366.0</td>\n",
       "      <td>...</td>\n",
       "      <td>1028231</td>\n",
       "      <td>4</td>\n",
       "      <td>9</td>\n",
       "      <td>56226bd3514052487433ab4eeb94e8ef3f6e058f</td>\n",
       "      <td>0</td>\n",
       "      <td>0</td>\n",
       "      <td>0</td>\n",
       "      <td>0</td>\n",
       "      <td>0</td>\n",
       "      <td>NaN</td>\n",
       "    </tr>\n",
       "  </tbody>\n",
       "</table>\n",
       "<p>5 rows × 41 columns</p>\n",
       "</div>"
      ],
      "text/plain": [
       "       date state  positive  negative  pending  hospitalizedCurrently  \\\n",
       "0  20200810    AK    4539.0  275804.0      NaN                   37.0   \n",
       "1  20200810    AL  103020.0  677547.0      NaN                 1528.0   \n",
       "2  20200810    AR   50028.0  519292.0      NaN                  508.0   \n",
       "3  20200810    AS       0.0    1396.0      NaN                    NaN   \n",
       "4  20200810    AZ  187523.0  840708.0      NaN                 1575.0   \n",
       "\n",
       "   hospitalizedCumulative  inIcuCurrently  inIcuCumulative  \\\n",
       "0                     NaN             NaN              NaN   \n",
       "1                 12070.0             NaN           1249.0   \n",
       "2                  3336.0             NaN              NaN   \n",
       "3                     NaN             NaN              NaN   \n",
       "4                 19277.0           506.0              NaN   \n",
       "\n",
       "   onVentilatorCurrently  ...   posNeg  deathIncrease hospitalizedIncrease  \\\n",
       "0                    3.0  ...   280343              0                    0   \n",
       "1                    NaN  ...   780567             29                  533   \n",
       "2                  117.0  ...   569320             11                   52   \n",
       "3                    NaN  ...     1396              0                    0   \n",
       "4                  366.0  ...  1028231              4                    9   \n",
       "\n",
       "                                       hash commercialScore  \\\n",
       "0  b509299c436632a9bb6c07a37fe0a942ba42d736               0   \n",
       "1  bc7c88c5e4e61a5aacd73bceef95889e5b77bbd3               0   \n",
       "2  3003372b79996f2d842ac417e2dceaab2971a7b3               0   \n",
       "3  ccffb3614fb87b4cafee3b19c44d3eb7d10d5913               0   \n",
       "4  56226bd3514052487433ab4eeb94e8ef3f6e058f               0   \n",
       "\n",
       "  negativeRegularScore  negativeScore  positiveScore score  grade  \n",
       "0                    0              0              0     0    NaN  \n",
       "1                    0              0              0     0    NaN  \n",
       "2                    0              0              0     0    NaN  \n",
       "3                    0              0              0     0    NaN  \n",
       "4                    0              0              0     0    NaN  \n",
       "\n",
       "[5 rows x 41 columns]"
      ]
     },
     "execution_count": 11,
     "metadata": {},
     "output_type": "execute_result"
    }
   ],
   "source": [
    "df.head()"
   ]
  },
  {
   "cell_type": "code",
   "execution_count": 13,
   "metadata": {},
   "outputs": [],
   "source": [
    "df['date'] = pd.to_datetime(df['date'], format='%Y%m%d')"
   ]
  },
  {
   "cell_type": "code",
   "execution_count": 14,
   "metadata": {},
   "outputs": [
    {
     "name": "stdout",
     "output_type": "stream",
     "text": [
      "date                        datetime64[ns]\n",
      "state                               object\n",
      "positive                           float64\n",
      "negative                           float64\n",
      "pending                            float64\n",
      "hospitalizedCurrently              float64\n",
      "hospitalizedCumulative             float64\n",
      "inIcuCurrently                     float64\n",
      "inIcuCumulative                    float64\n",
      "onVentilatorCurrently              float64\n",
      "onVentilatorCumulative             float64\n",
      "recovered                          float64\n",
      "dataQualityGrade                    object\n",
      "lastUpdateEt                        object\n",
      "dateModified                        object\n",
      "checkTimeEt                         object\n",
      "death                              float64\n",
      "hospitalized                       float64\n",
      "dateChecked                         object\n",
      "totalTestsViral                    float64\n",
      "positiveTestsViral                 float64\n",
      "negativeTestsViral                 float64\n",
      "positiveCasesViral                 float64\n",
      "deathConfirmed                     float64\n",
      "deathProbable                      float64\n",
      "fips                                 int64\n",
      "positiveIncrease                     int64\n",
      "negativeIncrease                     int64\n",
      "total                                int64\n",
      "totalTestResults                     int64\n",
      "totalTestResultsIncrease             int64\n",
      "posNeg                               int64\n",
      "deathIncrease                        int64\n",
      "hospitalizedIncrease                 int64\n",
      "hash                                object\n",
      "commercialScore                      int64\n",
      "negativeRegularScore                 int64\n",
      "negativeScore                        int64\n",
      "positiveScore                        int64\n",
      "score                                int64\n",
      "grade                              float64\n",
      "dtype: object\n"
     ]
    }
   ],
   "source": [
    "datatypes = df.dtypes\n",
    "print(datatypes)"
   ]
  },
  {
   "cell_type": "code",
   "execution_count": 21,
   "metadata": {},
   "outputs": [],
   "source": [
    "df['state']  = df['state'].astype(str)"
   ]
  },
  {
   "cell_type": "code",
   "execution_count": 22,
   "metadata": {},
   "outputs": [
    {
     "name": "stdout",
     "output_type": "stream",
     "text": [
      "<class 'pandas.core.frame.DataFrame'>\n",
      "RangeIndex: 8865 entries, 0 to 8864\n",
      "Data columns (total 41 columns):\n",
      " #   Column                    Non-Null Count  Dtype         \n",
      "---  ------                    --------------  -----         \n",
      " 0   date                      8865 non-null   datetime64[ns]\n",
      " 1   state                     8865 non-null   object        \n",
      " 2   positive                  8850 non-null   float64       \n",
      " 3   negative                  8709 non-null   float64       \n",
      " 4   pending                   1110 non-null   float64       \n",
      " 5   hospitalizedCurrently     6253 non-null   float64       \n",
      " 6   hospitalizedCumulative    4815 non-null   float64       \n",
      " 7   inIcuCurrently            3256 non-null   float64       \n",
      " 8   inIcuCumulative           1313 non-null   float64       \n",
      " 9   onVentilatorCurrently     2830 non-null   float64       \n",
      " 10  onVentilatorCumulative    466 non-null    float64       \n",
      " 11  recovered                 5606 non-null   float64       \n",
      " 12  dataQualityGrade          7764 non-null   object        \n",
      " 13  lastUpdateEt              8522 non-null   object        \n",
      " 14  dateModified              8522 non-null   object        \n",
      " 15  checkTimeEt               8522 non-null   object        \n",
      " 16  death                     8167 non-null   float64       \n",
      " 17  hospitalized              4815 non-null   float64       \n",
      " 18  dateChecked               8522 non-null   object        \n",
      " 19  totalTestsViral           3499 non-null   float64       \n",
      " 20  positiveTestsViral        1179 non-null   float64       \n",
      " 21  negativeTestsViral        1212 non-null   float64       \n",
      " 22  positiveCasesViral        5792 non-null   float64       \n",
      " 23  deathConfirmed            3137 non-null   float64       \n",
      " 24  deathProbable             2046 non-null   float64       \n",
      " 25  fips                      8865 non-null   int64         \n",
      " 26  positiveIncrease          8865 non-null   int64         \n",
      " 27  negativeIncrease          8865 non-null   int64         \n",
      " 28  total                     8865 non-null   int64         \n",
      " 29  totalTestResults          8865 non-null   int64         \n",
      " 30  totalTestResultsIncrease  8865 non-null   int64         \n",
      " 31  posNeg                    8865 non-null   int64         \n",
      " 32  deathIncrease             8865 non-null   int64         \n",
      " 33  hospitalizedIncrease      8865 non-null   int64         \n",
      " 34  hash                      8865 non-null   object        \n",
      " 35  commercialScore           8865 non-null   int64         \n",
      " 36  negativeRegularScore      8865 non-null   int64         \n",
      " 37  negativeScore             8865 non-null   int64         \n",
      " 38  positiveScore             8865 non-null   int64         \n",
      " 39  score                     8865 non-null   int64         \n",
      " 40  grade                     0 non-null      float64       \n",
      "dtypes: datetime64[ns](1), float64(19), int64(14), object(7)\n",
      "memory usage: 2.8+ MB\n"
     ]
    }
   ],
   "source": [
    "df.info()"
   ]
  },
  {
   "cell_type": "code",
   "execution_count": 33,
   "metadata": {},
   "outputs": [
    {
     "data": {
      "text/html": [
       "<div>\n",
       "<style scoped>\n",
       "    .dataframe tbody tr th:only-of-type {\n",
       "        vertical-align: middle;\n",
       "    }\n",
       "\n",
       "    .dataframe tbody tr th {\n",
       "        vertical-align: top;\n",
       "    }\n",
       "\n",
       "    .dataframe thead th {\n",
       "        text-align: right;\n",
       "    }\n",
       "</style>\n",
       "<table border=\"1\" class=\"dataframe\">\n",
       "  <thead>\n",
       "    <tr style=\"text-align: right;\">\n",
       "      <th></th>\n",
       "      <th>date</th>\n",
       "      <th>state</th>\n",
       "      <th>positive</th>\n",
       "      <th>negative</th>\n",
       "      <th>pending</th>\n",
       "      <th>hospitalizedCurrently</th>\n",
       "      <th>hospitalizedCumulative</th>\n",
       "      <th>inIcuCurrently</th>\n",
       "      <th>inIcuCumulative</th>\n",
       "      <th>onVentilatorCurrently</th>\n",
       "      <th>...</th>\n",
       "      <th>posNeg</th>\n",
       "      <th>deathIncrease</th>\n",
       "      <th>hospitalizedIncrease</th>\n",
       "      <th>hash</th>\n",
       "      <th>commercialScore</th>\n",
       "      <th>negativeRegularScore</th>\n",
       "      <th>negativeScore</th>\n",
       "      <th>positiveScore</th>\n",
       "      <th>score</th>\n",
       "      <th>grade</th>\n",
       "    </tr>\n",
       "  </thead>\n",
       "  <tbody>\n",
       "    <tr>\n",
       "      <th>0</th>\n",
       "      <td>2020-08-10</td>\n",
       "      <td>AK</td>\n",
       "      <td>4539.0</td>\n",
       "      <td>275804.0</td>\n",
       "      <td>-1.0</td>\n",
       "      <td>37.0</td>\n",
       "      <td>-1.0</td>\n",
       "      <td>-1.0</td>\n",
       "      <td>-1.0</td>\n",
       "      <td>3.0</td>\n",
       "      <td>...</td>\n",
       "      <td>280343</td>\n",
       "      <td>0</td>\n",
       "      <td>0</td>\n",
       "      <td>b509299c436632a9bb6c07a37fe0a942ba42d736</td>\n",
       "      <td>0</td>\n",
       "      <td>0</td>\n",
       "      <td>0</td>\n",
       "      <td>0</td>\n",
       "      <td>0</td>\n",
       "      <td>-1.0</td>\n",
       "    </tr>\n",
       "    <tr>\n",
       "      <th>1</th>\n",
       "      <td>2020-08-10</td>\n",
       "      <td>AL</td>\n",
       "      <td>103020.0</td>\n",
       "      <td>677547.0</td>\n",
       "      <td>-1.0</td>\n",
       "      <td>1528.0</td>\n",
       "      <td>12070.0</td>\n",
       "      <td>-1.0</td>\n",
       "      <td>1249.0</td>\n",
       "      <td>-1.0</td>\n",
       "      <td>...</td>\n",
       "      <td>780567</td>\n",
       "      <td>29</td>\n",
       "      <td>533</td>\n",
       "      <td>bc7c88c5e4e61a5aacd73bceef95889e5b77bbd3</td>\n",
       "      <td>0</td>\n",
       "      <td>0</td>\n",
       "      <td>0</td>\n",
       "      <td>0</td>\n",
       "      <td>0</td>\n",
       "      <td>-1.0</td>\n",
       "    </tr>\n",
       "    <tr>\n",
       "      <th>2</th>\n",
       "      <td>2020-08-10</td>\n",
       "      <td>AR</td>\n",
       "      <td>50028.0</td>\n",
       "      <td>519292.0</td>\n",
       "      <td>-1.0</td>\n",
       "      <td>508.0</td>\n",
       "      <td>3336.0</td>\n",
       "      <td>-1.0</td>\n",
       "      <td>-1.0</td>\n",
       "      <td>117.0</td>\n",
       "      <td>...</td>\n",
       "      <td>569320</td>\n",
       "      <td>11</td>\n",
       "      <td>52</td>\n",
       "      <td>3003372b79996f2d842ac417e2dceaab2971a7b3</td>\n",
       "      <td>0</td>\n",
       "      <td>0</td>\n",
       "      <td>0</td>\n",
       "      <td>0</td>\n",
       "      <td>0</td>\n",
       "      <td>-1.0</td>\n",
       "    </tr>\n",
       "    <tr>\n",
       "      <th>3</th>\n",
       "      <td>2020-08-10</td>\n",
       "      <td>AS</td>\n",
       "      <td>0.0</td>\n",
       "      <td>1396.0</td>\n",
       "      <td>-1.0</td>\n",
       "      <td>-1.0</td>\n",
       "      <td>-1.0</td>\n",
       "      <td>-1.0</td>\n",
       "      <td>-1.0</td>\n",
       "      <td>-1.0</td>\n",
       "      <td>...</td>\n",
       "      <td>1396</td>\n",
       "      <td>0</td>\n",
       "      <td>0</td>\n",
       "      <td>ccffb3614fb87b4cafee3b19c44d3eb7d10d5913</td>\n",
       "      <td>0</td>\n",
       "      <td>0</td>\n",
       "      <td>0</td>\n",
       "      <td>0</td>\n",
       "      <td>0</td>\n",
       "      <td>-1.0</td>\n",
       "    </tr>\n",
       "    <tr>\n",
       "      <th>4</th>\n",
       "      <td>2020-08-10</td>\n",
       "      <td>AZ</td>\n",
       "      <td>187523.0</td>\n",
       "      <td>840708.0</td>\n",
       "      <td>-1.0</td>\n",
       "      <td>1575.0</td>\n",
       "      <td>19277.0</td>\n",
       "      <td>506.0</td>\n",
       "      <td>-1.0</td>\n",
       "      <td>366.0</td>\n",
       "      <td>...</td>\n",
       "      <td>1028231</td>\n",
       "      <td>4</td>\n",
       "      <td>9</td>\n",
       "      <td>56226bd3514052487433ab4eeb94e8ef3f6e058f</td>\n",
       "      <td>0</td>\n",
       "      <td>0</td>\n",
       "      <td>0</td>\n",
       "      <td>0</td>\n",
       "      <td>0</td>\n",
       "      <td>-1.0</td>\n",
       "    </tr>\n",
       "  </tbody>\n",
       "</table>\n",
       "<p>5 rows × 41 columns</p>\n",
       "</div>"
      ],
      "text/plain": [
       "        date state  positive  negative  pending  hospitalizedCurrently  \\\n",
       "0 2020-08-10    AK    4539.0  275804.0     -1.0                   37.0   \n",
       "1 2020-08-10    AL  103020.0  677547.0     -1.0                 1528.0   \n",
       "2 2020-08-10    AR   50028.0  519292.0     -1.0                  508.0   \n",
       "3 2020-08-10    AS       0.0    1396.0     -1.0                   -1.0   \n",
       "4 2020-08-10    AZ  187523.0  840708.0     -1.0                 1575.0   \n",
       "\n",
       "   hospitalizedCumulative  inIcuCurrently  inIcuCumulative  \\\n",
       "0                    -1.0            -1.0             -1.0   \n",
       "1                 12070.0            -1.0           1249.0   \n",
       "2                  3336.0            -1.0             -1.0   \n",
       "3                    -1.0            -1.0             -1.0   \n",
       "4                 19277.0           506.0             -1.0   \n",
       "\n",
       "   onVentilatorCurrently  ...   posNeg  deathIncrease hospitalizedIncrease  \\\n",
       "0                    3.0  ...   280343              0                    0   \n",
       "1                   -1.0  ...   780567             29                  533   \n",
       "2                  117.0  ...   569320             11                   52   \n",
       "3                   -1.0  ...     1396              0                    0   \n",
       "4                  366.0  ...  1028231              4                    9   \n",
       "\n",
       "                                       hash commercialScore  \\\n",
       "0  b509299c436632a9bb6c07a37fe0a942ba42d736               0   \n",
       "1  bc7c88c5e4e61a5aacd73bceef95889e5b77bbd3               0   \n",
       "2  3003372b79996f2d842ac417e2dceaab2971a7b3               0   \n",
       "3  ccffb3614fb87b4cafee3b19c44d3eb7d10d5913               0   \n",
       "4  56226bd3514052487433ab4eeb94e8ef3f6e058f               0   \n",
       "\n",
       "  negativeRegularScore  negativeScore  positiveScore score  grade  \n",
       "0                    0              0              0     0   -1.0  \n",
       "1                    0              0              0     0   -1.0  \n",
       "2                    0              0              0     0   -1.0  \n",
       "3                    0              0              0     0   -1.0  \n",
       "4                    0              0              0     0   -1.0  \n",
       "\n",
       "[5 rows x 41 columns]"
      ]
     },
     "execution_count": 33,
     "metadata": {},
     "output_type": "execute_result"
    }
   ],
   "source": [
    "df.fillna(value = -1, inplace = True)\n",
    "df.head()"
   ]
  },
  {
   "cell_type": "markdown",
   "metadata": {},
   "source": [
    "*Function to show general statistics for one variable for a given state*"
   ]
  },
  {
   "cell_type": "code",
   "execution_count": 32,
   "metadata": {},
   "outputs": [],
   "source": [
    "def plot_variable_per_state(var = 'positive', state = 'IN'):\n",
    "    \"\"\"\n",
    "    Basic bar chart displaying one variable for a state based on dates\n",
    "    \"\"\"\n",
    "    state_info = df[df['state'] == state]\n",
    "    x = state_info['date']\n",
    "    y = state_info[var]\n",
    "    plt.title(\"{} for {}\".format(var,state))\n",
    "    plt.bar(x=x,height=y)\n",
    "    plt.grid(True)\n",
    "    plt.show()"
   ]
  },
  {
   "cell_type": "code",
   "execution_count": 34,
   "metadata": {},
   "outputs": [
    {
     "data": {
      "image/png": "[encoded data removed]",
      "text/plain": [
       "<Figure size 432x288 with 1 Axes>"
      ]
     },
     "metadata": {
      "needs_background": "light"
     },
     "output_type": "display_data"
    }
   ],
   "source": [
    "plot_variable_per_state()"
   ]
  },
  {
   "cell_type": "code",
   "execution_count": 35,
   "metadata": {},
   "outputs": [
    {
     "data": {
      "image/png": "[encoded data removed]",
      "text/plain": [
       "<Figure size 432x288 with 1 Axes>"
      ]
     },
     "metadata": {
      "needs_background": "light"
     },
     "output_type": "display_data"
    }
   ],
   "source": [
    "plot_variable_per_state('positiveIncrease')"
   ]
  },
  {
   "cell_type": "code",
   "execution_count": 38,
   "metadata": {},
   "outputs": [
    {
     "data": {
      "image/png": "[encoded data removed]",
      "text/plain": [
       "<Figure size 432x288 with 1 Axes>"
      ]
     },
     "metadata": {
      "needs_background": "light"
     },
     "output_type": "display_data"
    }
   ],
   "source": [
    "plot_variable_per_state('deathIncrease', 'CA')"
   ]
  },
  {
   "cell_type": "markdown",
   "metadata": {},
   "source": [
    "*Function to calculate the fatality ratio*"
   ]
  },
  {
   "cell_type": "code",
   "execution_count": 65,
   "metadata": {},
   "outputs": [],
   "source": [
    "def fatality_ratio(state = 'IN'):\n",
    "    \"\"\"\n",
    "    Fatality ratio is death to positive test results\n",
    "    Only take the latest info -- most recent date\n",
    "    \"\"\"\n",
    "    date = df.iloc[0]['date']\n",
    "    death_count = float(df[(df['state'] == state) & (df['date'] == date)]['death'])\n",
    "    positive_count = float(df[(df['state'] == state) & (df['date'] == date)]['positive'])\n",
    "    \n",
    "    fatality_ratio = -1\n",
    "    if (death_count >= 0) and (positive_count > 0):\n",
    "        fatality_ratio = death_count/positive_count\n",
    "    return fatality_ratio"
   ]
  },
  {
   "cell_type": "code",
   "execution_count": 67,
   "metadata": {},
   "outputs": [
    {
     "name": "stdout",
     "output_type": "stream",
     "text": [
      "0.04059099637294645\n"
     ]
    }
   ],
   "source": [
    "ft = fatality_ratio()\n",
    "print(ft)"
   ]
  },
  {
   "cell_type": "code",
   "execution_count": 72,
   "metadata": {},
   "outputs": [],
   "source": [
    "def recovery_ratio(state = 'IN'):\n",
    "    \"\"\"\n",
    "    Recovery ratio is recovered to positive test results\n",
    "    Only take the lastest date info\n",
    "    \"\"\"\n",
    "    date = df.iloc[0]['date']\n",
    "    recovered_count = float(df[(df['state'] == state) & (df['date'] == date)]['recovered'])\n",
    "    positive_count = float(df[(df['state'] == state) & (df['date'] == date)]['positive'])\n",
    "    \n",
    "    recovery_ratio = -1\n",
    "    if (recovered_count >= 0) and (positive_count > 0):\n",
    "        recovery_ratio = recovered_count/positive_count\n",
    "    return recovery_ratio"
   ]
  },
  {
   "cell_type": "code",
   "execution_count": 73,
   "metadata": {},
   "outputs": [
    {
     "name": "stdout",
     "output_type": "stream",
     "text": [
      "0.7209835715809686\n"
     ]
    }
   ],
   "source": [
    "print(recovery_ratio())"
   ]
  },
  {
   "cell_type": "code",
   "execution_count": 76,
   "metadata": {},
   "outputs": [],
   "source": [
    "def positive_test_ratio(state = 'IN'):\n",
    "    \"\"\"\n",
    "    Calulate number of postive tests from total tests for the latest given date\n",
    "    \"\"\"\n",
    "    date = df.iloc[0]['date']\n",
    "    positive_count = float(df[(df['state'] == state) & (df['date'] == date)]['positive'])\n",
    "    tested_count = float(df[(df['state'] == state) & (df['date'] == date)]['totalTestResults'])\n",
    "    \n",
    "    positive_ratio = -1\n",
    "    if (positive_count >= 0) and (tested_count > 0):\n",
    "        positive_ratio = positive_count/tested_count\n",
    "    return positive_ratio"
   ]
  },
  {
   "cell_type": "code",
   "execution_count": 77,
   "metadata": {},
   "outputs": [
    {
     "name": "stdout",
     "output_type": "stream",
     "text": [
      "0.08800731360116229\n"
     ]
    }
   ],
   "source": [
    "print(positive_test_ratio())"
   ]
  },
  {
   "cell_type": "markdown",
   "metadata": {},
   "source": [
    "*Function to display to compare two variables for a given state*"
   ]
  },
  {
   "cell_type": "code",
   "execution_count": 81,
   "metadata": {},
   "outputs": [],
   "source": [
    "def plot_two_variables_per_state(var_1 = 'positive', var_2 = 'totalTestResults', state = 'IN'):\n",
    "    state_info = df[df['state'] == state]\n",
    "    x = state_info[var_1]\n",
    "    y = state_info[var_2]\n",
    "    \n",
    "    plt.title(\"{} vs {} for {}\".format(var_1, var_2, state))\n",
    "    plt.scatter(x=x, y=y)\n",
    "    plt.grid(True)\n",
    "    plt.show()"
   ]
  },
  {
   "cell_type": "code",
   "execution_count": 82,
   "metadata": {},
   "outputs": [
    {
     "data": {
      "image/png": "[encoded data removed]",
      "text/plain": [
       "<Figure size 432x288 with 1 Axes>"
      ]
     },
     "metadata": {
      "needs_background": "light"
     },
     "output_type": "display_data"
    }
   ],
   "source": [
    "plot_two_variables_per_state()"
   ]
  },
  {
   "cell_type": "code",
   "execution_count": 83,
   "metadata": {},
   "outputs": [
    {
     "data": {
      "image/png": "[encoded data removed]",
      "text/plain": [
       "<Figure size 432x288 with 1 Axes>"
      ]
     },
     "metadata": {
      "needs_background": "light"
     },
     "output_type": "display_data"
    }
   ],
   "source": [
    "plot_two_variables_per_state('positiveIncrease', 'totalTestResultsIncrease')"
   ]
  },
  {
   "cell_type": "code",
   "execution_count": null,
   "metadata": {},
   "outputs": [],
   "source": []
  }
 ],
 "metadata": {
  "kernelspec": {
   "display_name": "Python 3",
   "language": "python",
   "name": "python3"
  },
  "language_info": {
   "codemirror_mode": {
    "name": "ipython",
    "version": 3
   },
   "file_extension": ".py",
   "mimetype": "text/x-python",
   "name": "python",
   "nbconvert_exporter": "python",
   "pygments_lexer": "ipython3",
   "version": "3.7.6"
  }
 },
 "nbformat": 4,
 "nbformat_minor": 4
}
